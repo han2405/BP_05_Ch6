{
  "nbformat": 4,
  "nbformat_minor": 0,
  "metadata": {
    "colab": {
      "provenance": [],
      "authorship_tag": "ABX9TyPifiosoo/4tCSSuxis6lTx",
      "include_colab_link": true
    },
    "kernelspec": {
      "name": "python3",
      "display_name": "Python 3"
    },
    "language_info": {
      "name": "python"
    }
  },
  "cells": [
    {
      "cell_type": "markdown",
      "metadata": {
        "id": "view-in-github",
        "colab_type": "text"
      },
      "source": [
        "<a href=\"https://colab.research.google.com/github/han2405/BP_05_Ch6/blob/main/Report_6ch.ipynb\" target=\"_parent\"><img src=\"https://colab.research.google.com/assets/colab-badge.svg\" alt=\"Open In Colab\"/></a>"
      ]
    },
    {
      "cell_type": "markdown",
      "source": [
        "<pre> 1번 2부터 100 사이의 모든 짝수를 출력하는 반복 루프를 작성한다."
      ],
      "metadata": {
        "id": "4p2kGLj-A7Fm"
      }
    },
    {
      "cell_type": "code",
      "source": [
        "for i in range(2,101):#2부터 100 사이 짝수라 101까지\n",
        "  if i%2==0: #이 결과가 0이면 i 는 짝수\n",
        "    print(i,end=\" \") #짝수만 출력하는 거라 else 사용이 딱히 필요 없나?"
      ],
      "metadata": {
        "id": "YQMYG2cGHvJo",
        "outputId": "4e24279c-d10c-4af3-f3bf-dce0c69b809d",
        "colab": {
          "base_uri": "https://localhost:8080/"
        }
      },
      "execution_count": 1,
      "outputs": [
        {
          "output_type": "stream",
          "name": "stdout",
          "text": [
            "2 4 6 8 10 12 14 16 18 20 22 24 26 28 30 32 34 36 38 40 42 44 46 48 50 52 54 56 58 60 62 64 66 68 70 72 74 76 78 80 82 84 86 88 90 92 94 96 98 100 "
          ]
        }
      ]
    },
    {
      "cell_type": "markdown",
      "source": [
        "<pre> 2번 어떤 사람이 복리이자율 7%로 1000만원을 저금했을 경우에 2000만원이 되는데 몇 년이 걸리는지 계산하기 위하여 다음과 코드를 작성하였다. 잘못된 점은 없는지 체크해보자."
      ],
      "metadata": {
        "id": "lgtqfcopBD_2"
      }
    },
    {
      "cell_type": "code",
      "source": [
        "year=0\n",
        "balance=1000\n",
        "\n",
        "while balance <= 2000: #2000이 될 땨까지\n",
        "  year=year+1\n",
        "  interest=balance*0.07\n",
        "  balance=balance+interest\n",
        "print(year, \"년이 걸립니다.\")"
      ],
      "metadata": {
        "id": "D3kmAPeMIf9L",
        "outputId": "d14b66d9-d1aa-4329-a5cc-bd572d7de7cb",
        "colab": {
          "base_uri": "https://localhost:8080/"
        }
      },
      "execution_count": 2,
      "outputs": [
        {
          "output_type": "stream",
          "name": "stdout",
          "text": [
            "11 년이 걸립니다.\n"
          ]
        }
      ]
    },
    {
      "cell_type": "markdown",
      "source": [
        "<pre> 3번 다음 코드의 출력을 에상해보자. 각 단계에서 변수의 값을 예상해보시오."
      ],
      "metadata": {
        "id": "q_bGApC3BQb9"
      }
    },
    {
      "cell_type": "code",
      "source": [
        "n= 1234\n",
        "sum=0\n",
        "while n>0:\n",
        "  digit=n%10 #나머지계산\n",
        "  sum=sum+digit\n",
        "  n=n//10 #몫 계산\n",
        "print(sum)\n",
        "\n",
        "#digit sum 4 4 3 7 2 9 1 10"
      ],
      "metadata": {
        "id": "-FCyzSfcMYuF",
        "outputId": "73bb766d-03e5-4aa2-e228-f062d6e8e3f5",
        "colab": {
          "base_uri": "https://localhost:8080/"
        }
      },
      "execution_count": 3,
      "outputs": [
        {
          "output_type": "stream",
          "name": "stdout",
          "text": [
            "10\n"
          ]
        }
      ]
    },
    {
      "cell_type": "markdown",
      "source": [
        "<pre> 4번 사용자에게 곱셈 퀴즈를 내고 답을 사용자로부터 받는 프로그램에서 사용자가 올바른 답을 입력할 때까지 반복하도록 수정하여 보자."
      ],
      "metadata": {
        "id": "s4YBHqVkBWsp"
      }
    },
    {
      "cell_type": "code",
      "source": [
        "ans=0\n",
        "while ans != 3*9: #조건 만족때까지 루프\n",
        "  ans=int(input(\"3*9는\"))\n",
        "print(\"맞았습니다.\")"
      ],
      "metadata": {
        "id": "bEuXClvFNGGB",
        "outputId": "06140de1-49b1-43c7-dc07-ee21f51dd500",
        "colab": {
          "base_uri": "https://localhost:8080/"
        }
      },
      "execution_count": 5,
      "outputs": [
        {
          "output_type": "stream",
          "name": "stdout",
          "text": [
            "3*9는27\n",
            "맞았습니다.\n"
          ]
        }
      ]
    },
    {
      "cell_type": "markdown",
      "source": [
        "<pre> 5번 사용자가 입력한 정수의 합을 계산하는 프로그램을 작성하자. 사용자가 0을 입력하기 전까지 정수를 계속하여 읽도록 한다."
      ],
      "metadata": {
        "id": "0_SCLhCIBeRN"
      }
    },
    {
      "cell_type": "code",
      "source": [
        "sum=0\n",
        "while True: #무한 루프 쓰는 법\n",
        "  x=int(input(\"정수를 입력하시오. :\"))\n",
        "  if x==0: #0을 입력할 때까지 정수를 계속 입력받음\n",
        "    break;  #루프 빠져나가기\n",
        "  sum=sum+x\n",
        "\n",
        "print(\"합은\", sum , \"입니다.\")"
      ],
      "metadata": {
        "id": "ZnAS2mVeNhQo",
        "outputId": "366c52f5-85fa-491f-bd5f-61f3ab0ce97d",
        "colab": {
          "base_uri": "https://localhost:8080/"
        }
      },
      "execution_count": 6,
      "outputs": [
        {
          "output_type": "stream",
          "name": "stdout",
          "text": [
            "정수를 입력하시오. :4\n",
            "정수를 입력하시오. :3\n",
            "정수를 입력하시오. :0\n",
            "합은 7 입니다.\n"
          ]
        }
      ]
    },
    {
      "cell_type": "markdown",
      "source": [
        "<pre> 6번 난수 생성 함수를 사용하여서 2개의 주사위를 던졌을 때 나오는 수를 다음과 같이 출력하여 보자.\n",
        "\n"
      ],
      "metadata": {
        "id": "X6VSw3XrBkNX"
      }
    },
    {
      "cell_type": "code",
      "source": [
        "from random import randint\n",
        "\n",
        "for i in range(3): #3번 반복\n",
        "  d1=randint(1,6) #1부터 6까지의 난수를 생성\n",
        "  d2=randint(1,6)\n",
        "  print(\"첫번째 주사위는=\",d1 , \"두번째 주사위는=\", d2)"
      ],
      "metadata": {
        "id": "yzfE1qLvOD_R",
        "outputId": "63de2cef-0ed9-44ac-924e-cdd0fc825800",
        "colab": {
          "base_uri": "https://localhost:8080/"
        }
      },
      "execution_count": 7,
      "outputs": [
        {
          "output_type": "stream",
          "name": "stdout",
          "text": [
            "첫번째 주사위는= 2 두번째 주사위는= 2\n",
            "첫번째 주사위는= 4 두번째 주사위는= 2\n",
            "첫번째 주사위는= 5 두번째 주사위는= 5\n"
          ]
        }
      ]
    },
    {
      "cell_type": "markdown",
      "source": [
        "<pre> 7번 터틀 그래픽과 반복을 사용하려 눈 모양을 그려보자."
      ],
      "metadata": {
        "id": "Si9JBH0wBuxW"
      }
    },
    {
      "cell_type": "code",
      "source": [
        "import turtle\n",
        "\n",
        "t=turtle.Turtle()\n",
        "t.shape(\"turtle\")\n",
        "t.lt(90)\n",
        "\n",
        "for i in range(1,7):\n",
        "    t.fd(100)\n",
        "    t.fd(-30)\n",
        "    t.lt(60)\n",
        "    t.fd(30)\n",
        "    t.fd(-30)\n",
        "\n",
        "    t.rt(120)\n",
        "    t.fd(30)\n",
        "    t.fd(-30)\n",
        "\n",
        "    t.lt(60)\n",
        "    t.fd(-70)\n",
        "    t.lt(60) #한줄기를 그리는 과정,6번 반복하게 됨)"
      ],
      "metadata": {
        "id": "nsW8cif8RAZK"
      },
      "execution_count": null,
      "outputs": []
    },
    {
      "cell_type": "markdown",
      "source": [
        "<pre> 8번 우리는 이번 장에는 터틀 그래픽으로 별을 그려보았다. 이 코드를 응용하여서 다음과 같이 10개의 별을 그리는 프로그램을 작성하라. 별들은 시작 각도가 약간씩 다르다."
      ],
      "metadata": {
        "id": "CukDxugNBy0l"
      }
    },
    {
      "cell_type": "code",
      "source": [
        "import turtle\n",
        "\n",
        "myPen=turtle.Turtle()\n",
        "myPen.speed(0)\n",
        "myPen.color(\"#FF0000\")\n",
        "\n",
        "for j in range(1,10):\n",
        "  for i in range (1,6):\n",
        "    myPen.left(144)\n",
        "    myPen.forward(200)\n",
        "myPen.left(10)"
      ],
      "metadata": {
        "id": "09lSUjuYRDc3"
      },
      "execution_count": null,
      "outputs": []
    },
    {
      "cell_type": "markdown",
      "source": [
        "<pre> 9번 반복과 난수를 함꼐 사용하면 화면에 랜덤한 원을 그릴 수 있다. 화면에 10개의 랜덤한 원을 그리는 프로그램을 작성하라. 원의 중심과 반지름이 모두 난수여야 한다."
      ],
      "metadata": {
        "id": "hbptCBODB9p2"
      }
    },
    {
      "cell_type": "code",
      "source": [
        "import random\n",
        "import turtle\n",
        "import math\n",
        "\n",
        "t=turtle.Turtle\n",
        "t.shape(\"turtle\")\n",
        "\n",
        "for j in range(1,10):\n",
        "  t.up()\n",
        "  x=random.randint(-200,200)\n",
        "  y=random.randint(-200,200)\n",
        "  r=random.randint(-200,200)\n",
        "  t.goto(x,y)\n",
        "  t.down()\n",
        "  t.circle(r)"
      ],
      "metadata": {
        "id": "UPmo6DhWSYf6"
      },
      "execution_count": null,
      "outputs": []
    },
    {
      "cell_type": "markdown",
      "source": [
        "<pre> 10번 다음과 같이 거북이를 왕복 달리기시키는 프로그램을 작성해보자,"
      ],
      "metadata": {
        "id": "YhO-xAz7HPvK"
      }
    },
    {
      "cell_type": "code",
      "source": [
        "import turtle\n",
        "import math\n",
        "\n",
        "t=turtle.Turtle()\n",
        "t.shape(\"turtle\")\n",
        "\n",
        "for i in range(5):\n",
        "    t.fd(200);\n",
        "    t.rt(90)\n",
        "    t.fd(20);\n",
        "    t.rt(90)\n",
        "    t.fd(200);\n",
        "    t.lt(90)\n",
        "    t.fd(200);\n",
        "    t.lt(90)\n",
        "   "
      ],
      "metadata": {
        "id": "CjJhnTX6Slad"
      },
      "execution_count": null,
      "outputs": []
    },
    {
      "cell_type": "markdown",
      "source": [
        "<pre> 11번 다음의 터틀 그래픽 프로그램을 분석해보자. 학습하지 않은 함수가 있다면 인터넷에서 조사하여 보자."
      ],
      "metadata": {
        "id": "Ak6ATtXEHUqS"
      }
    },
    {
      "cell_type": "code",
      "source": [
        "import turtle\n",
        "import math\n",
        "\n",
        "t=turtle.Turtle()\n",
        "t.shape(\"turtle\")\n",
        "t.color('red', 'yellow')\n",
        "t.begin_fill()\n",
        "while True:\n",
        "  t.fd(200)\n",
        "  t.lt(170)\n",
        "  if abs(t.pos()) <1:\n",
        "    break\n",
        "t.end_fill()"
      ],
      "metadata": {
        "id": "_dP1cmMfSi5b"
      },
      "execution_count": null,
      "outputs": []
    },
    {
      "cell_type": "markdown",
      "source": [
        "<pre> 12번 터틀 그래픽과 반복을 사용하여 싸인 그래프를 그려보자. 거북이를 싸인값에 따라서 움직이면 된다."
      ],
      "metadata": {
        "id": "8tZR0VPeHauE"
      }
    },
    {
      "cell_type": "code",
      "source": [
        "import turtle\n",
        "import math\n",
        "\n",
        "t=turtle.Turtle()\n",
        "t.shape(\"turtle\")\n",
        "t.color('red', 'yellow')\n",
        "\n",
        "for x in range(0, 360):\n",
        "  t.goto(x,200*math.sin(x*3.14/180))"
      ],
      "metadata": {
        "id": "hqYORTk-Scxy"
      },
      "execution_count": null,
      "outputs": []
    }
  ]
}